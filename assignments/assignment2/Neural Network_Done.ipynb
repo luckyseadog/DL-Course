{
 "cells": [
  {
   "cell_type": "markdown",
   "metadata": {},
   "source": [
    "# Задание 2.1 - Нейронные сети\n",
    "\n",
    "В этом задании вы реализуете и натренируете настоящую нейроную сеть своими руками!\n",
    "\n",
    "В некотором смысле это будет расширением прошлого задания - нам нужно просто составить несколько линейных классификаторов вместе!\n",
    "\n",
    "<img src=\"https://i.redd.it/n9fgba8b0qr01.png\" alt=\"Stack_more_layers\" width=\"400px\"/>"
   ]
  },
  {
   "cell_type": "code",
   "execution_count": 4,
   "metadata": {},
   "outputs": [
    {
     "name": "stdout",
     "output_type": "stream",
     "text": [
      "--2022-03-16 12:42:09--  http://ufldl.stanford.edu/housenumbers/train_32x32.mat\n",
      "Распознаётся ufldl.stanford.edu (ufldl.stanford.edu)… 171.64.68.10\n",
      "Подключение к ufldl.stanford.edu (ufldl.stanford.edu)|171.64.68.10|:80... соединение установлено.\n",
      "HTTP-запрос отправлен. Ожидание ответа… 200 OK\n",
      "Длина: 182040794 (174M) [text/plain]\n",
      "Сохранение в: «train_32x32.mat»\n",
      "\n",
      "train_32x32.mat     100%[===================>] 173,61M  8,87MB/s    за 25s     \n",
      "\n",
      "2022-03-16 12:42:35 (6,95 MB/s) - «train_32x32.mat» сохранён [182040794/182040794]\n",
      "\n",
      "--2022-03-16 12:42:35--  http://ufldl.stanford.edu/housenumbers/test_32x32.mat\n",
      "Повторное использование соединения с ufldl.stanford.edu:80.\n",
      "HTTP-запрос отправлен. Ожидание ответа… 200 OK\n",
      "Длина: 64275384 (61M) [text/plain]\n",
      "Сохранение в: «test_32x32.mat»\n",
      "\n",
      "test_32x32.mat      100%[===================>]  61,30M  8,47MB/s    за 7,1s    \n",
      "\n",
      "2022-03-16 12:42:42 (8,60 MB/s) - «test_32x32.mat» сохранён [64275384/64275384]\n",
      "\n",
      "ЗАВЕРШЕНО --2022-03-16 12:42:42--\n",
      "Общее время: 33s\n",
      "Загружено: 2 файлов, 235M за 32s (7,32 MB/s)\n"
     ]
    }
   ],
   "source": [
    "!bash download_data.sh"
   ]
  },
  {
   "cell_type": "code",
   "execution_count": 223,
   "metadata": {},
   "outputs": [
    {
     "name": "stdout",
     "output_type": "stream",
     "text": [
      "The autoreload extension is already loaded. To reload it, use:\n",
      "  %reload_ext autoreload\n"
     ]
    }
   ],
   "source": [
    "import numpy as np\n",
    "import matplotlib.pyplot as plt\n",
    "\n",
    "%matplotlib inline\n",
    "\n",
    "%load_ext autoreload\n",
    "%autoreload 2"
   ]
  },
  {
   "cell_type": "code",
   "execution_count": 224,
   "metadata": {},
   "outputs": [],
   "source": [
    "from dataset import load_svhn, random_split_train_val\n",
    "from gradient_check import check_layer_gradient, check_layer_param_gradient, check_model_gradient\n",
    "from layers import FullyConnectedLayer, ReLULayer\n",
    "from model import TwoLayerNet\n",
    "from trainer import Trainer, Dataset\n",
    "from optim import SGD, MomentumSGD\n",
    "from metrics import multiclass_accuracy"
   ]
  },
  {
   "cell_type": "markdown",
   "metadata": {},
   "source": [
    "# Загружаем данные\n",
    "\n",
    "И разделяем их на training и validation."
   ]
  },
  {
   "cell_type": "code",
   "execution_count": 225,
   "metadata": {},
   "outputs": [
    {
     "name": "stderr",
     "output_type": "stream",
     "text": [
      "/var/folders/qx/5dmjvwj50ysf44p31147cjt40000gn/T/ipykernel_34072/2810386256.py:2: DeprecationWarning: `np.float` is a deprecated alias for the builtin `float`. To silence this warning, use `float` by itself. Doing this will not modify any behavior and is safe. If you specifically wanted the numpy scalar type, use `np.float64` here.\n",
      "Deprecated in NumPy 1.20; for more details and guidance: https://numpy.org/devdocs/release/1.20.0-notes.html#deprecations\n",
      "  train_flat = train_X.reshape(train_X.shape[0], -1).astype(np.float) / 255.0\n",
      "/var/folders/qx/5dmjvwj50ysf44p31147cjt40000gn/T/ipykernel_34072/2810386256.py:3: DeprecationWarning: `np.float` is a deprecated alias for the builtin `float`. To silence this warning, use `float` by itself. Doing this will not modify any behavior and is safe. If you specifically wanted the numpy scalar type, use `np.float64` here.\n",
      "Deprecated in NumPy 1.20; for more details and guidance: https://numpy.org/devdocs/release/1.20.0-notes.html#deprecations\n",
      "  test_flat = test_X.reshape(test_X.shape[0], -1).astype(np.float) / 255.0\n"
     ]
    }
   ],
   "source": [
    "def prepare_for_neural_network(train_X, test_X):\n",
    "    train_flat = train_X.reshape(train_X.shape[0], -1).astype(np.float) / 255.0\n",
    "    test_flat = test_X.reshape(test_X.shape[0], -1).astype(np.float) / 255.0\n",
    "    \n",
    "    # Subtract mean\n",
    "    mean_image = np.mean(train_flat, axis = 0)\n",
    "    train_flat -= mean_image\n",
    "    test_flat -= mean_image\n",
    "    \n",
    "    return train_flat, test_flat\n",
    "    \n",
    "train_X, train_y, test_X, test_y = load_svhn(\"data\", max_train=10000, max_test=1000)    \n",
    "train_X, test_X = prepare_for_neural_network(train_X, test_X)\n",
    "# Split train into train and val\n",
    "train_X, train_y, val_X, val_y = random_split_train_val(train_X, train_y, num_val = 1000)"
   ]
  },
  {
   "cell_type": "markdown",
   "metadata": {},
   "source": [
    "# Как всегда, начинаем с кирпичиков\n",
    "\n",
    "Мы будем реализовывать необходимые нам слои по очереди. Каждый слой должен реализовать:\n",
    "- прямой проход (forward pass), который генерирует выход слоя по входу и запоминает необходимые данные\n",
    "- обратный проход (backward pass), который получает градиент по выходу слоя и вычисляет градиент по входу и по параметрам\n",
    "\n",
    "Начнем с ReLU, у которого параметров нет."
   ]
  },
  {
   "cell_type": "code",
   "execution_count": 226,
   "metadata": {
    "scrolled": false
   },
   "outputs": [
    {
     "name": "stdout",
     "output_type": "stream",
     "text": [
      "Gradient check passed!\n"
     ]
    }
   ],
   "source": [
    "# TODO: Implement ReLULayer layer in layers.py\n",
    "# Note: you'll need to copy implementation of the gradient_check function from the previous assignment\n",
    "\n",
    "X = np.array([[1,-2,3],\n",
    "              [-1, 2, 0.1]\n",
    "              ])\n",
    "\n",
    "assert check_layer_gradient(ReLULayer(), X)"
   ]
  },
  {
   "cell_type": "markdown",
   "metadata": {},
   "source": [
    "А теперь реализуем полносвязный слой (fully connected layer), у которого будет два массива параметров: W (weights) и B (bias).\n",
    "\n",
    "Все параметры наши слои будут использовать для параметров специальный класс `Param`, в котором будут храниться значения параметров и градиенты этих параметров, вычисляемые во время обратного прохода.\n",
    "\n",
    "Это даст возможность аккумулировать (суммировать) градиенты из разных частей функции потерь, например, из cross-entropy loss и regularization loss."
   ]
  },
  {
   "cell_type": "code",
   "execution_count": 227,
   "metadata": {},
   "outputs": [
    {
     "name": "stdout",
     "output_type": "stream",
     "text": [
      "Gradient check passed!\n",
      "Gradient check passed!\n",
      "Gradient check passed!\n"
     ]
    }
   ],
   "source": [
    "# TODO: Implement FullyConnected layer forward and backward methods\n",
    "assert check_layer_gradient(FullyConnectedLayer(3, 4), X)\n",
    "# TODO: Implement storing gradients for W and B\n",
    "assert check_layer_param_gradient(FullyConnectedLayer(3, 4), X, 'W')\n",
    "assert check_layer_param_gradient(FullyConnectedLayer(3, 4), X, 'B')"
   ]
  },
  {
   "cell_type": "markdown",
   "metadata": {},
   "source": [
    "## Создаем нейронную сеть\n",
    "\n",
    "Теперь мы реализуем простейшую нейронную сеть с двумя полносвязным слоями и нелинейностью ReLU. Реализуйте функцию `compute_loss_and_gradients`, она должна запустить прямой и обратный проход через оба слоя для вычисления градиентов.\n",
    "\n",
    "Не забудьте реализовать очистку градиентов в начале функции."
   ]
  },
  {
   "cell_type": "code",
   "execution_count": 228,
   "metadata": {},
   "outputs": [
    {
     "name": "stdout",
     "output_type": "stream",
     "text": [
      "Checking gradient for L1_W\n",
      "Gradient check passed!\n",
      "Checking gradient for L1_B\n",
      "Gradient check passed!\n",
      "Checking gradient for L2_W\n",
      "Gradient check passed!\n",
      "Checking gradient for L2_B\n",
      "Gradient check passed!\n"
     ]
    },
    {
     "data": {
      "text/plain": [
       "True"
      ]
     },
     "execution_count": 228,
     "metadata": {},
     "output_type": "execute_result"
    }
   ],
   "source": [
    "# TODO: In model.py, implement compute_loss_and_gradients function\n",
    "model = TwoLayerNet(n_input = train_X.shape[1], n_output = 10, hidden_layer_size = 3, reg = 0)\n",
    "loss = model.compute_loss_and_gradients(train_X[:2], train_y[:2])\n",
    "\n",
    "# TODO Now implement backward pass and aggregate all of the params\n",
    "check_model_gradient(model, train_X[:2], train_y[:2])"
   ]
  },
  {
   "cell_type": "markdown",
   "metadata": {},
   "source": [
    "Теперь добавьте к модели регуляризацию - она должна прибавляться к loss и делать свой вклад в градиенты."
   ]
  },
  {
   "cell_type": "code",
   "execution_count": 229,
   "metadata": {},
   "outputs": [
    {
     "name": "stdout",
     "output_type": "stream",
     "text": [
      "Checking gradient for L1_W\n",
      "Gradient check passed!\n",
      "Checking gradient for L1_B\n",
      "Gradient check passed!\n",
      "Checking gradient for L2_W\n",
      "Gradient check passed!\n",
      "Checking gradient for L2_B\n",
      "Gradient check passed!\n"
     ]
    },
    {
     "data": {
      "text/plain": [
       "True"
      ]
     },
     "execution_count": 229,
     "metadata": {},
     "output_type": "execute_result"
    }
   ],
   "source": [
    "# TODO Now implement l2 regularization in the forward and backward pass\n",
    "model_with_reg = TwoLayerNet(n_input = train_X.shape[1], n_output = 10, hidden_layer_size = 3, reg = 1e1)\n",
    "loss_with_reg = model_with_reg.compute_loss_and_gradients(train_X[:2], train_y[:2])\n",
    "assert loss_with_reg > loss and not np.isclose(loss_with_reg, loss), \\\n",
    "    \"Loss with regularization (%2.4f) should be higher than without it (%2.4f)!\" % (loss, loss_with_reg)\n",
    "\n",
    "check_model_gradient(model_with_reg, train_X[:2], train_y[:2])"
   ]
  },
  {
   "cell_type": "markdown",
   "metadata": {},
   "source": [
    "Также реализуем функцию предсказания (вычисления значения) модели на новых данных.\n",
    "\n",
    "Какое значение точности мы ожидаем увидеть до начала тренировки?"
   ]
  },
  {
   "cell_type": "code",
   "execution_count": 230,
   "metadata": {},
   "outputs": [
    {
     "data": {
      "text/plain": [
       "0.1"
      ]
     },
     "execution_count": 230,
     "metadata": {},
     "output_type": "execute_result"
    }
   ],
   "source": [
    "# Finally, implement predict function!\n",
    "\n",
    "# TODO: Implement predict function\n",
    "# What would be the value we expect?\n",
    "multiclass_accuracy(model_with_reg.predict(train_X[:30]), train_y[:30]) "
   ]
  },
  {
   "cell_type": "markdown",
   "metadata": {},
   "source": [
    "# Допишем код для процесса тренировки\n",
    "\n",
    "Если все реализовано корректно, значение функции ошибки должно уменьшаться с каждой эпохой, пусть и медленно. Не беспокойтесь пока про validation accuracy."
   ]
  },
  {
   "cell_type": "code",
   "execution_count": 231,
   "metadata": {},
   "outputs": [
    {
     "name": "stdout",
     "output_type": "stream",
     "text": [
      "Loss: 27.828631, Train accuracy: 0.214889, val accuracy: 0.215000\n",
      "Loss: 23.503394, Train accuracy: 0.249778, val accuracy: 0.253000\n",
      "Loss: 19.884021, Train accuracy: 0.299889, val accuracy: 0.300000\n",
      "Loss: 16.931150, Train accuracy: 0.344556, val accuracy: 0.339000\n",
      "Loss: 14.385688, Train accuracy: 0.387333, val accuracy: 0.396000\n",
      "Loss: 12.123939, Train accuracy: 0.424222, val accuracy: 0.426000\n",
      "Loss: 10.716846, Train accuracy: 0.461444, val accuracy: 0.470000\n",
      "Loss: 9.128000, Train accuracy: 0.485889, val accuracy: 0.486000\n",
      "Loss: 7.969772, Train accuracy: 0.502556, val accuracy: 0.488000\n",
      "Loss: 6.684177, Train accuracy: 0.531000, val accuracy: 0.516000\n",
      "Loss: 6.131888, Train accuracy: 0.557222, val accuracy: 0.538000\n",
      "Loss: 5.408971, Train accuracy: 0.566889, val accuracy: 0.548000\n",
      "Loss: 4.803028, Train accuracy: 0.577000, val accuracy: 0.555000\n",
      "Loss: 4.300332, Train accuracy: 0.583667, val accuracy: 0.562000\n",
      "Loss: 3.925002, Train accuracy: 0.594889, val accuracy: 0.582000\n",
      "Loss: 3.411706, Train accuracy: 0.606333, val accuracy: 0.581000\n",
      "Loss: 3.261721, Train accuracy: 0.612000, val accuracy: 0.594000\n",
      "Loss: 3.310731, Train accuracy: 0.616556, val accuracy: 0.595000\n",
      "Loss: 3.076307, Train accuracy: 0.618333, val accuracy: 0.598000\n",
      "Loss: 2.825875, Train accuracy: 0.633111, val accuracy: 0.615000\n"
     ]
    }
   ],
   "source": [
    "model = TwoLayerNet(n_input = train_X.shape[1], n_output = 10, hidden_layer_size = 100, reg = 1e-2)\n",
    "dataset = Dataset(train_X, train_y, val_X, val_y)\n",
    "trainer = Trainer(model, dataset, SGD(), learning_rate = 1e-2)\n",
    "\n",
    "# TODO Implement missing pieces in Trainer.fit function\n",
    "# You should expect loss to go down every epoch, even if it's slow\n",
    "loss_history, train_history, val_history = trainer.fit()"
   ]
  },
  {
   "cell_type": "code",
   "execution_count": 232,
   "metadata": {},
   "outputs": [
    {
     "data": {
      "text/plain": [
       "[<matplotlib.lines.Line2D at 0x7f844aa15730>]"
      ]
     },
     "execution_count": 232,
     "metadata": {},
     "output_type": "execute_result"
    },
    {
     "data": {
      "image/png": "[encoded data removed]",
      "text/plain": [
       "<Figure size 432x288 with 1 Axes>"
      ]
     },
     "metadata": {
      "needs_background": "light"
     },
     "output_type": "display_data"
    }
   ],
   "source": [
    "plt.plot(loss_history)"
   ]
  },
  {
   "cell_type": "code",
   "execution_count": 233,
   "metadata": {},
   "outputs": [
    {
     "data": {
      "text/plain": [
       "[<matplotlib.lines.Line2D at 0x7f843b21da30>]"
      ]
     },
     "execution_count": 233,
     "metadata": {},
     "output_type": "execute_result"
    },
    {
     "data": {
      "image/png": "[encoded data removed]",
      "text/plain": [
       "<Figure size 432x288 with 1 Axes>"
      ]
     },
     "metadata": {
      "needs_background": "light"
     },
     "output_type": "display_data"
    }
   ],
   "source": [
    "plt.plot(train_history)\n",
    "plt.plot(val_history)"
   ]
  },
  {
   "cell_type": "markdown",
   "metadata": {},
   "source": [
    "# Улучшаем процесс тренировки\n",
    "\n",
    "Мы реализуем несколько ключевых оптимизаций, необходимых для тренировки современных нейросетей."
   ]
  },
  {
   "cell_type": "markdown",
   "metadata": {},
   "source": [
    "## Уменьшение скорости обучения (learning rate decay)\n",
    "\n",
    "Одна из необходимых оптимизаций во время тренировки нейронных сетей - постепенное уменьшение скорости обучения по мере тренировки.\n",
    "\n",
    "Один из стандартных методов - уменьшение скорости обучения (learning rate) каждые N эпох на коэффициент d (часто называемый decay). Значения N и d, как всегда, являются гиперпараметрами и должны подбираться на основе эффективности на проверочных данных (validation data). \n",
    "\n",
    "В нашем случае N будет равным 1."
   ]
  },
  {
   "cell_type": "code",
   "execution_count": 235,
   "metadata": {},
   "outputs": [
    {
     "name": "stdout",
     "output_type": "stream",
     "text": [
      "Loss: 28.118159, Train accuracy: 0.232333, val accuracy: 0.237000\n",
      "Loss: 23.601154, Train accuracy: 0.265333, val accuracy: 0.263000\n",
      "Loss: 20.200291, Train accuracy: 0.318444, val accuracy: 0.311000\n",
      "Loss: 16.964565, Train accuracy: 0.349889, val accuracy: 0.358000\n",
      "Loss: 14.553134, Train accuracy: 0.399333, val accuracy: 0.403000\n",
      "Loss: 12.903399, Train accuracy: 0.442556, val accuracy: 0.448000\n",
      "Loss: 10.717856, Train accuracy: 0.463667, val accuracy: 0.467000\n",
      "Loss: 9.471030, Train accuracy: 0.492333, val accuracy: 0.477000\n",
      "Loss: 8.216975, Train accuracy: 0.512333, val accuracy: 0.502000\n",
      "Loss: 7.320452, Train accuracy: 0.535111, val accuracy: 0.526000\n",
      "Loss: 6.323233, Train accuracy: 0.553333, val accuracy: 0.542000\n",
      "Loss: 5.737314, Train accuracy: 0.554111, val accuracy: 0.536000\n",
      "Loss: 4.879599, Train accuracy: 0.565889, val accuracy: 0.547000\n",
      "Loss: 4.484336, Train accuracy: 0.582111, val accuracy: 0.569000\n",
      "Loss: 4.420973, Train accuracy: 0.586667, val accuracy: 0.572000\n",
      "Loss: 3.928654, Train accuracy: 0.590444, val accuracy: 0.576000\n",
      "Loss: 3.602923, Train accuracy: 0.602444, val accuracy: 0.591000\n",
      "Loss: 3.397920, Train accuracy: 0.608889, val accuracy: 0.589000\n",
      "Loss: 3.136438, Train accuracy: 0.610000, val accuracy: 0.594000\n",
      "Loss: 2.884433, Train accuracy: 0.614889, val accuracy: 0.604000\n"
     ]
    }
   ],
   "source": [
    "# TODO Implement learning rate decay inside Trainer.fit method\n",
    "# Decay should happen once per epoch\n",
    "\n",
    "model = TwoLayerNet(n_input = train_X.shape[1], n_output = 10, hidden_layer_size = 100, reg = 1e-2)\n",
    "dataset = Dataset(train_X, train_y, val_X, val_y)\n",
    "trainer = Trainer(model, dataset, SGD(), learning_rate_decay=0.99)\n",
    "\n",
    "initial_learning_rate = trainer.learning_rate\n",
    "loss_history, train_history, val_history = trainer.fit()\n",
    "\n",
    "assert trainer.learning_rate < initial_learning_rate, \"Learning rate should've been reduced\"\n",
    "assert trainer.learning_rate > 0.5*initial_learning_rate, \"Learning rate shouldn'tve been reduced that much!\""
   ]
  },
  {
   "cell_type": "markdown",
   "metadata": {},
   "source": [
    "# Накопление импульса (Momentum SGD)\n",
    "\n",
    "Другой большой класс оптимизаций - использование более эффективных методов градиентного спуска. Мы реализуем один из них - накопление импульса (Momentum SGD).\n",
    "\n",
    "Этот метод хранит скорость движения, использует градиент для ее изменения на каждом шаге, и изменяет веса пропорционально значению скорости.\n",
    "(Физическая аналогия: Вместо скорости градиенты теперь будут задавать ускорение, но будет присутствовать сила трения.)\n",
    "\n",
    "```\n",
    "velocity = momentum * velocity - learning_rate * gradient \n",
    "w = w + velocity\n",
    "```\n",
    "\n",
    "`momentum` здесь коэффициент затухания, который тоже является гиперпараметром (к счастью, для него часто есть хорошее значение по умолчанию, типичный диапазон -- 0.8-0.99).\n",
    "\n",
    "Несколько полезных ссылок, где метод разбирается более подробно:  \n",
    "http://cs231n.github.io/neural-networks-3/#sgd  \n",
    "https://distill.pub/2017/momentum/"
   ]
  },
  {
   "cell_type": "code",
   "execution_count": 238,
   "metadata": {},
   "outputs": [
    {
     "name": "stdout",
     "output_type": "stream",
     "text": [
      "Loss: 28.056102, Train accuracy: 0.230000, val accuracy: 0.226000\n",
      "Loss: 23.735678, Train accuracy: 0.269333, val accuracy: 0.264000\n",
      "Loss: 20.105021, Train accuracy: 0.300889, val accuracy: 0.294000\n",
      "Loss: 17.000109, Train accuracy: 0.344778, val accuracy: 0.357000\n",
      "Loss: 14.813773, Train accuracy: 0.397778, val accuracy: 0.392000\n",
      "Loss: 12.652947, Train accuracy: 0.430889, val accuracy: 0.433000\n",
      "Loss: 10.921232, Train accuracy: 0.459556, val accuracy: 0.471000\n",
      "Loss: 9.545149, Train accuracy: 0.480667, val accuracy: 0.481000\n",
      "Loss: 8.228750, Train accuracy: 0.500333, val accuracy: 0.505000\n",
      "Loss: 7.171249, Train accuracy: 0.525889, val accuracy: 0.531000\n",
      "Loss: 6.389941, Train accuracy: 0.549667, val accuracy: 0.548000\n",
      "Loss: 5.966290, Train accuracy: 0.556111, val accuracy: 0.549000\n",
      "Loss: 5.315978, Train accuracy: 0.572000, val accuracy: 0.566000\n",
      "Loss: 4.835098, Train accuracy: 0.571000, val accuracy: 0.579000\n",
      "Loss: 4.128659, Train accuracy: 0.581889, val accuracy: 0.580000\n",
      "Loss: 3.746448, Train accuracy: 0.593778, val accuracy: 0.585000\n",
      "Loss: 3.749290, Train accuracy: 0.605444, val accuracy: 0.589000\n",
      "Loss: 3.700632, Train accuracy: 0.609444, val accuracy: 0.601000\n",
      "Loss: 2.923542, Train accuracy: 0.606556, val accuracy: 0.596000\n",
      "Loss: 3.263041, Train accuracy: 0.612000, val accuracy: 0.597000\n"
     ]
    }
   ],
   "source": [
    "# TODO: Implement MomentumSGD.update function in optim.py\n",
    "\n",
    "model = TwoLayerNet(n_input = train_X.shape[1], n_output = 10, hidden_layer_size = 100, reg = 1e-2)\n",
    "dataset = Dataset(train_X, train_y, val_X, val_y)\n",
    "trainer = Trainer(model, dataset, MomentumSGD(), learning_rate=1e-3, learning_rate_decay=0.99)\n",
    "\n",
    "# You should see even better results than before!\n",
    "loss_history, train_history, val_history = trainer.fit()"
   ]
  },
  {
   "cell_type": "markdown",
   "metadata": {},
   "source": [
    "# Ну что, давайте уже тренировать сеть!"
   ]
  },
  {
   "cell_type": "markdown",
   "metadata": {},
   "source": [
    "## Последний тест - переобучимся (overfit) на маленьком наборе данных\n",
    "\n",
    "Хороший способ проверить, все ли реализовано корректно - переобучить сеть на маленьком наборе данных.  \n",
    "Наша модель обладает достаточной мощностью, чтобы приблизить маленький набор данных идеально, поэтому мы ожидаем, что на нем мы быстро дойдем до 100% точности на тренировочном наборе. \n",
    "\n",
    "Если этого не происходит, то где-то была допущена ошибка!"
   ]
  },
  {
   "cell_type": "code",
   "execution_count": 243,
   "metadata": {},
   "outputs": [
    {
     "name": "stdout",
     "output_type": "stream",
     "text": [
      "Loss: 33.309892, Train accuracy: 0.533333, val accuracy: 0.066667\n",
      "Loss: 32.488487, Train accuracy: 0.800000, val accuracy: 0.133333\n",
      "Loss: 30.811116, Train accuracy: 0.933333, val accuracy: 0.000000\n",
      "Loss: 30.473542, Train accuracy: 1.000000, val accuracy: 0.000000\n",
      "Loss: 30.018279, Train accuracy: 1.000000, val accuracy: 0.000000\n",
      "Loss: 29.448835, Train accuracy: 1.000000, val accuracy: 0.000000\n",
      "Loss: 28.814563, Train accuracy: 1.000000, val accuracy: 0.000000\n",
      "Loss: 28.407421, Train accuracy: 1.000000, val accuracy: 0.000000\n",
      "Loss: 28.145741, Train accuracy: 1.000000, val accuracy: 0.000000\n",
      "Loss: 27.869177, Train accuracy: 1.000000, val accuracy: 0.066667\n",
      "Loss: 27.407869, Train accuracy: 1.000000, val accuracy: 0.066667\n",
      "Loss: 26.964321, Train accuracy: 1.000000, val accuracy: 0.066667\n",
      "Loss: 26.758952, Train accuracy: 1.000000, val accuracy: 0.066667\n",
      "Loss: 26.291153, Train accuracy: 1.000000, val accuracy: 0.066667\n",
      "Loss: 25.967601, Train accuracy: 1.000000, val accuracy: 0.066667\n",
      "Loss: 25.764320, Train accuracy: 1.000000, val accuracy: 0.066667\n",
      "Loss: 25.390980, Train accuracy: 1.000000, val accuracy: 0.066667\n",
      "Loss: 25.157191, Train accuracy: 1.000000, val accuracy: 0.066667\n",
      "Loss: 24.755063, Train accuracy: 1.000000, val accuracy: 0.066667\n",
      "Loss: 24.502641, Train accuracy: 1.000000, val accuracy: 0.066667\n",
      "Loss: 24.203473, Train accuracy: 1.000000, val accuracy: 0.066667\n",
      "Loss: 23.921210, Train accuracy: 1.000000, val accuracy: 0.066667\n",
      "Loss: 23.672943, Train accuracy: 1.000000, val accuracy: 0.066667\n",
      "Loss: 23.304200, Train accuracy: 1.000000, val accuracy: 0.066667\n",
      "Loss: 23.058571, Train accuracy: 1.000000, val accuracy: 0.066667\n",
      "Loss: 22.807307, Train accuracy: 1.000000, val accuracy: 0.066667\n",
      "Loss: 22.519588, Train accuracy: 1.000000, val accuracy: 0.066667\n",
      "Loss: 22.227265, Train accuracy: 1.000000, val accuracy: 0.066667\n",
      "Loss: 21.954275, Train accuracy: 1.000000, val accuracy: 0.066667\n",
      "Loss: 21.725166, Train accuracy: 1.000000, val accuracy: 0.066667\n",
      "Loss: 21.458234, Train accuracy: 1.000000, val accuracy: 0.066667\n",
      "Loss: 21.185394, Train accuracy: 1.000000, val accuracy: 0.000000\n",
      "Loss: 20.985341, Train accuracy: 1.000000, val accuracy: 0.000000\n",
      "Loss: 20.717825, Train accuracy: 1.000000, val accuracy: 0.066667\n",
      "Loss: 20.482961, Train accuracy: 1.000000, val accuracy: 0.000000\n",
      "Loss: 20.215603, Train accuracy: 1.000000, val accuracy: 0.000000\n",
      "Loss: 19.991527, Train accuracy: 1.000000, val accuracy: 0.000000\n",
      "Loss: 19.744067, Train accuracy: 1.000000, val accuracy: 0.000000\n",
      "Loss: 19.505745, Train accuracy: 1.000000, val accuracy: 0.000000\n",
      "Loss: 19.270803, Train accuracy: 1.000000, val accuracy: 0.000000\n",
      "Loss: 19.053968, Train accuracy: 1.000000, val accuracy: 0.000000\n",
      "Loss: 18.812083, Train accuracy: 1.000000, val accuracy: 0.000000\n",
      "Loss: 18.608483, Train accuracy: 1.000000, val accuracy: 0.000000\n",
      "Loss: 18.386074, Train accuracy: 1.000000, val accuracy: 0.000000\n",
      "Loss: 18.163791, Train accuracy: 1.000000, val accuracy: 0.000000\n",
      "Loss: 17.965814, Train accuracy: 1.000000, val accuracy: 0.000000\n",
      "Loss: 17.757792, Train accuracy: 1.000000, val accuracy: 0.000000\n",
      "Loss: 17.522914, Train accuracy: 1.000000, val accuracy: 0.000000\n",
      "Loss: 17.324253, Train accuracy: 1.000000, val accuracy: 0.000000\n",
      "Loss: 17.125909, Train accuracy: 1.000000, val accuracy: 0.000000\n",
      "Loss: 16.933874, Train accuracy: 1.000000, val accuracy: 0.000000\n",
      "Loss: 16.711965, Train accuracy: 1.000000, val accuracy: 0.000000\n",
      "Loss: 16.511487, Train accuracy: 1.000000, val accuracy: 0.000000\n",
      "Loss: 16.338741, Train accuracy: 1.000000, val accuracy: 0.000000\n",
      "Loss: 16.148077, Train accuracy: 1.000000, val accuracy: 0.000000\n",
      "Loss: 15.938923, Train accuracy: 1.000000, val accuracy: 0.000000\n",
      "Loss: 15.766164, Train accuracy: 1.000000, val accuracy: 0.000000\n",
      "Loss: 15.581790, Train accuracy: 1.000000, val accuracy: 0.000000\n",
      "Loss: 15.406346, Train accuracy: 1.000000, val accuracy: 0.000000\n",
      "Loss: 15.213609, Train accuracy: 1.000000, val accuracy: 0.000000\n",
      "Loss: 15.023655, Train accuracy: 1.000000, val accuracy: 0.000000\n",
      "Loss: 14.851124, Train accuracy: 1.000000, val accuracy: 0.000000\n",
      "Loss: 14.674828, Train accuracy: 1.000000, val accuracy: 0.000000\n",
      "Loss: 14.521661, Train accuracy: 1.000000, val accuracy: 0.000000\n",
      "Loss: 14.338147, Train accuracy: 1.000000, val accuracy: 0.000000\n",
      "Loss: 14.153773, Train accuracy: 1.000000, val accuracy: 0.000000\n",
      "Loss: 13.979945, Train accuracy: 1.000000, val accuracy: 0.000000\n",
      "Loss: 13.828158, Train accuracy: 1.000000, val accuracy: 0.000000\n",
      "Loss: 13.681642, Train accuracy: 1.000000, val accuracy: 0.000000\n",
      "Loss: 13.507643, Train accuracy: 1.000000, val accuracy: 0.000000\n",
      "Loss: 13.348706, Train accuracy: 1.000000, val accuracy: 0.000000\n",
      "Loss: 13.181601, Train accuracy: 1.000000, val accuracy: 0.000000\n",
      "Loss: 13.047875, Train accuracy: 1.000000, val accuracy: 0.000000\n",
      "Loss: 12.880691, Train accuracy: 1.000000, val accuracy: 0.000000\n",
      "Loss: 12.741369, Train accuracy: 1.000000, val accuracy: 0.000000\n",
      "Loss: 12.574013, Train accuracy: 1.000000, val accuracy: 0.000000\n",
      "Loss: 12.447194, Train accuracy: 1.000000, val accuracy: 0.000000\n",
      "Loss: 12.283707, Train accuracy: 1.000000, val accuracy: 0.000000\n",
      "Loss: 12.155517, Train accuracy: 1.000000, val accuracy: 0.000000\n",
      "Loss: 11.993459, Train accuracy: 1.000000, val accuracy: 0.000000\n",
      "Loss: 11.867750, Train accuracy: 1.000000, val accuracy: 0.000000\n",
      "Loss: 11.723324, Train accuracy: 1.000000, val accuracy: 0.000000\n",
      "Loss: 11.596550, Train accuracy: 1.000000, val accuracy: 0.000000\n",
      "Loss: 11.452446, Train accuracy: 1.000000, val accuracy: 0.000000\n",
      "Loss: 11.313530, Train accuracy: 1.000000, val accuracy: 0.000000\n",
      "Loss: 11.191486, Train accuracy: 1.000000, val accuracy: 0.000000\n",
      "Loss: 11.051347, Train accuracy: 1.000000, val accuracy: 0.000000\n",
      "Loss: 10.930696, Train accuracy: 1.000000, val accuracy: 0.000000\n",
      "Loss: 10.795688, Train accuracy: 1.000000, val accuracy: 0.000000\n",
      "Loss: 10.687826, Train accuracy: 1.000000, val accuracy: 0.000000\n",
      "Loss: 10.544696, Train accuracy: 1.000000, val accuracy: 0.000000\n",
      "Loss: 10.422866, Train accuracy: 1.000000, val accuracy: 0.000000\n",
      "Loss: 10.309153, Train accuracy: 1.000000, val accuracy: 0.000000\n",
      "Loss: 10.182465, Train accuracy: 1.000000, val accuracy: 0.000000\n",
      "Loss: 10.070284, Train accuracy: 1.000000, val accuracy: 0.000000\n",
      "Loss: 9.945303, Train accuracy: 1.000000, val accuracy: 0.000000\n",
      "Loss: 9.840966, Train accuracy: 1.000000, val accuracy: 0.000000\n",
      "Loss: 9.719834, Train accuracy: 1.000000, val accuracy: 0.000000\n",
      "Loss: 9.598450, Train accuracy: 1.000000, val accuracy: 0.000000\n",
      "Loss: 9.495792, Train accuracy: 1.000000, val accuracy: 0.000000\n",
      "Loss: 9.362445, Train accuracy: 1.000000, val accuracy: 0.000000\n",
      "Loss: 9.281356, Train accuracy: 1.000000, val accuracy: 0.000000\n",
      "Loss: 9.156613, Train accuracy: 1.000000, val accuracy: 0.000000\n",
      "Loss: 9.061697, Train accuracy: 1.000000, val accuracy: 0.000000\n",
      "Loss: 8.956727, Train accuracy: 1.000000, val accuracy: 0.000000\n",
      "Loss: 8.837889, Train accuracy: 1.000000, val accuracy: 0.000000\n",
      "Loss: 8.732445, Train accuracy: 1.000000, val accuracy: 0.000000\n",
      "Loss: 8.641284, Train accuracy: 1.000000, val accuracy: 0.000000\n",
      "Loss: 8.546287, Train accuracy: 1.000000, val accuracy: 0.000000\n",
      "Loss: 8.450556, Train accuracy: 1.000000, val accuracy: 0.000000\n",
      "Loss: 8.335893, Train accuracy: 1.000000, val accuracy: 0.000000\n",
      "Loss: 8.232965, Train accuracy: 1.000000, val accuracy: 0.000000\n",
      "Loss: 8.155695, Train accuracy: 1.000000, val accuracy: 0.000000\n",
      "Loss: 8.052681, Train accuracy: 1.000000, val accuracy: 0.000000\n",
      "Loss: 7.962293, Train accuracy: 1.000000, val accuracy: 0.000000\n",
      "Loss: 7.863483, Train accuracy: 1.000000, val accuracy: 0.000000\n",
      "Loss: 7.767384, Train accuracy: 1.000000, val accuracy: 0.000000\n",
      "Loss: 7.686928, Train accuracy: 1.000000, val accuracy: 0.000000\n",
      "Loss: 7.585542, Train accuracy: 1.000000, val accuracy: 0.000000\n",
      "Loss: 7.510228, Train accuracy: 1.000000, val accuracy: 0.000000\n",
      "Loss: 7.408708, Train accuracy: 1.000000, val accuracy: 0.000000\n",
      "Loss: 7.327194, Train accuracy: 1.000000, val accuracy: 0.000000\n",
      "Loss: 7.257994, Train accuracy: 1.000000, val accuracy: 0.000000\n",
      "Loss: 7.167315, Train accuracy: 1.000000, val accuracy: 0.000000\n",
      "Loss: 7.091370, Train accuracy: 1.000000, val accuracy: 0.000000\n",
      "Loss: 7.008906, Train accuracy: 1.000000, val accuracy: 0.000000\n",
      "Loss: 6.923016, Train accuracy: 1.000000, val accuracy: 0.000000\n",
      "Loss: 6.845418, Train accuracy: 1.000000, val accuracy: 0.000000\n",
      "Loss: 6.774502, Train accuracy: 1.000000, val accuracy: 0.000000\n",
      "Loss: 6.675311, Train accuracy: 1.000000, val accuracy: 0.000000\n",
      "Loss: 6.603541, Train accuracy: 1.000000, val accuracy: 0.000000\n",
      "Loss: 6.536328, Train accuracy: 1.000000, val accuracy: 0.000000\n",
      "Loss: 6.463363, Train accuracy: 1.000000, val accuracy: 0.000000\n",
      "Loss: 6.388774, Train accuracy: 1.000000, val accuracy: 0.000000\n",
      "Loss: 6.308247, Train accuracy: 1.000000, val accuracy: 0.000000\n"
     ]
    },
    {
     "name": "stdout",
     "output_type": "stream",
     "text": [
      "Loss: 6.258720, Train accuracy: 1.000000, val accuracy: 0.000000\n",
      "Loss: 6.160041, Train accuracy: 1.000000, val accuracy: 0.000000\n",
      "Loss: 6.102342, Train accuracy: 1.000000, val accuracy: 0.000000\n",
      "Loss: 6.023967, Train accuracy: 1.000000, val accuracy: 0.000000\n",
      "Loss: 5.944387, Train accuracy: 1.000000, val accuracy: 0.000000\n",
      "Loss: 5.878787, Train accuracy: 1.000000, val accuracy: 0.000000\n",
      "Loss: 5.826493, Train accuracy: 1.000000, val accuracy: 0.000000\n",
      "Loss: 5.748819, Train accuracy: 1.000000, val accuracy: 0.000000\n",
      "Loss: 5.669222, Train accuracy: 1.000000, val accuracy: 0.000000\n",
      "Loss: 5.620588, Train accuracy: 1.000000, val accuracy: 0.000000\n",
      "Loss: 5.548896, Train accuracy: 1.000000, val accuracy: 0.000000\n",
      "Loss: 5.486105, Train accuracy: 1.000000, val accuracy: 0.000000\n",
      "Loss: 5.438803, Train accuracy: 1.000000, val accuracy: 0.000000\n",
      "Loss: 5.368718, Train accuracy: 1.000000, val accuracy: 0.000000\n",
      "Loss: 5.294955, Train accuracy: 1.000000, val accuracy: 0.000000\n"
     ]
    }
   ],
   "source": [
    "data_size = 15\n",
    "model = TwoLayerNet(n_input = train_X.shape[1], n_output = 10, hidden_layer_size = 100, reg = 1e-2)\n",
    "dataset = Dataset(train_X[:data_size], train_y[:data_size], val_X[:data_size], val_y[:data_size])\n",
    "trainer = Trainer(model, dataset, SGD(), learning_rate=1e-1, num_epochs=150, batch_size=5)\n",
    "\n",
    "# You should expect this to reach 1.0 training accuracy \n",
    "loss_history, train_history, val_history = trainer.fit()"
   ]
  },
  {
   "cell_type": "markdown",
   "metadata": {},
   "source": [
    "Теперь найдем гипепараметры, для которых этот процесс сходится быстрее.\n",
    "Если все реализовано корректно, то существуют параметры, при которых процесс сходится в **20** эпох или еще быстрее.\n",
    "Найдите их!"
   ]
  },
  {
   "cell_type": "code",
   "execution_count": 245,
   "metadata": {},
   "outputs": [
    {
     "name": "stdout",
     "output_type": "stream",
     "text": [
      "Loss: 33.008283, Train accuracy: 0.600000, val accuracy: 0.066667\n",
      "Loss: 31.924683, Train accuracy: 0.866667, val accuracy: 0.066667\n",
      "Loss: 30.546440, Train accuracy: 0.933333, val accuracy: 0.000000\n",
      "Loss: 30.064578, Train accuracy: 1.000000, val accuracy: 0.000000\n",
      "Loss: 29.505054, Train accuracy: 1.000000, val accuracy: 0.000000\n",
      "Loss: 29.511334, Train accuracy: 1.000000, val accuracy: 0.000000\n",
      "Loss: 29.083928, Train accuracy: 1.000000, val accuracy: 0.066667\n",
      "Loss: 28.380044, Train accuracy: 1.000000, val accuracy: 0.000000\n",
      "Loss: 27.996059, Train accuracy: 1.000000, val accuracy: 0.000000\n",
      "Loss: 27.585005, Train accuracy: 1.000000, val accuracy: 0.000000\n",
      "Loss: 27.326736, Train accuracy: 1.000000, val accuracy: 0.000000\n",
      "Loss: 26.913475, Train accuracy: 1.000000, val accuracy: 0.000000\n",
      "Loss: 26.660170, Train accuracy: 1.000000, val accuracy: 0.000000\n",
      "Loss: 26.281010, Train accuracy: 1.000000, val accuracy: 0.000000\n",
      "Loss: 26.056145, Train accuracy: 1.000000, val accuracy: 0.000000\n",
      "Loss: 25.680431, Train accuracy: 1.000000, val accuracy: 0.000000\n",
      "Loss: 25.338877, Train accuracy: 1.000000, val accuracy: 0.000000\n",
      "Loss: 25.064810, Train accuracy: 1.000000, val accuracy: 0.000000\n",
      "Loss: 24.807981, Train accuracy: 1.000000, val accuracy: 0.000000\n",
      "Loss: 24.475802, Train accuracy: 1.000000, val accuracy: 0.000000\n"
     ]
    }
   ],
   "source": [
    "# Now, tweak some hyper parameters and make it train to 1.0 accuracy in 20 epochs or less\n",
    "\n",
    "model = TwoLayerNet(n_input = train_X.shape[1], n_output = 10, hidden_layer_size = 100, reg = 1e-2)\n",
    "dataset = Dataset(train_X[:data_size], train_y[:data_size], val_X[:data_size], val_y[:data_size])\n",
    "# TODO: Change any hyperparamers or optimizators to reach training accuracy in 20 epochs\n",
    "trainer = Trainer(model, dataset, SGD(), learning_rate=1e-1, num_epochs=20, batch_size=5)\n",
    "\n",
    "loss_history, train_history, val_history = trainer.fit()"
   ]
  },
  {
   "cell_type": "markdown",
   "metadata": {},
   "source": [
    "# Итак, основное мероприятие!\n",
    "\n",
    "Натренируйте лучшую нейросеть! Можно добавлять и изменять параметры, менять количество нейронов в слоях сети и как угодно экспериментировать. \n",
    "\n",
    "Добейтесь точности лучше **60%** на validation set."
   ]
  },
  {
   "cell_type": "code",
   "execution_count": 264,
   "metadata": {
    "scrolled": true
   },
   "outputs": [
    {
     "name": "stdout",
     "output_type": "stream",
     "text": [
      "learning_rate: 0.01, reg_strength: 0.001, \n",
      "                    hidden_layer_size: 100, num_epoch:50\n",
      "Loss: 5.141705, Train accuracy: 0.371333, val accuracy: 0.361000\n",
      "Loss: 4.491518, Train accuracy: 0.542667, val accuracy: 0.524000\n",
      "Loss: 4.003587, Train accuracy: 0.617667, val accuracy: 0.602000\n",
      "Loss: 3.664275, Train accuracy: 0.653889, val accuracy: 0.628000\n",
      "Loss: 3.419832, Train accuracy: 0.696333, val accuracy: 0.669000\n",
      "Loss: 3.184877, Train accuracy: 0.712111, val accuracy: 0.690000\n",
      "Loss: 2.997846, Train accuracy: 0.733000, val accuracy: 0.695000\n",
      "Loss: 2.830382, Train accuracy: 0.730000, val accuracy: 0.710000\n",
      "Loss: 2.674536, Train accuracy: 0.748111, val accuracy: 0.694000\n",
      "Loss: 2.538066, Train accuracy: 0.763667, val accuracy: 0.714000\n",
      "Loss: 2.410490, Train accuracy: 0.777667, val accuracy: 0.709000\n",
      "Loss: 2.287710, Train accuracy: 0.788333, val accuracy: 0.727000\n",
      "Loss: 2.184769, Train accuracy: 0.795333, val accuracy: 0.729000\n",
      "Loss: 2.081597, Train accuracy: 0.806667, val accuracy: 0.743000\n",
      "Loss: 1.987339, Train accuracy: 0.794000, val accuracy: 0.729000\n",
      "Loss: 1.911663, Train accuracy: 0.807444, val accuracy: 0.737000\n",
      "Loss: 1.819420, Train accuracy: 0.807556, val accuracy: 0.730000\n",
      "Loss: 1.744353, Train accuracy: 0.814667, val accuracy: 0.748000\n",
      "Loss: 1.675015, Train accuracy: 0.806444, val accuracy: 0.730000\n",
      "Loss: 1.621665, Train accuracy: 0.827889, val accuracy: 0.751000\n",
      "Loss: 1.551140, Train accuracy: 0.823889, val accuracy: 0.751000\n",
      "Loss: 1.508675, Train accuracy: 0.825000, val accuracy: 0.743000\n",
      "Loss: 1.449807, Train accuracy: 0.840444, val accuracy: 0.751000\n",
      "Loss: 1.404696, Train accuracy: 0.835778, val accuracy: 0.739000\n",
      "Loss: 1.358575, Train accuracy: 0.837111, val accuracy: 0.737000\n",
      "Loss: 1.320999, Train accuracy: 0.849778, val accuracy: 0.757000\n",
      "Loss: 1.284034, Train accuracy: 0.846222, val accuracy: 0.739000\n",
      "Loss: 1.242070, Train accuracy: 0.850111, val accuracy: 0.747000\n",
      "Loss: 1.212052, Train accuracy: 0.860111, val accuracy: 0.750000\n",
      "Loss: 1.182119, Train accuracy: 0.868222, val accuracy: 0.763000\n",
      "Loss: 1.148022, Train accuracy: 0.874222, val accuracy: 0.757000\n",
      "Loss: 1.135990, Train accuracy: 0.872444, val accuracy: 0.764000\n",
      "Loss: 1.104616, Train accuracy: 0.872889, val accuracy: 0.764000\n",
      "Loss: 1.085261, Train accuracy: 0.879556, val accuracy: 0.767000\n",
      "Loss: 1.068151, Train accuracy: 0.878778, val accuracy: 0.767000\n",
      "Loss: 1.043844, Train accuracy: 0.872778, val accuracy: 0.766000\n",
      "Loss: 1.033703, Train accuracy: 0.871333, val accuracy: 0.758000\n",
      "Loss: 0.998797, Train accuracy: 0.887333, val accuracy: 0.773000\n",
      "Loss: 0.992527, Train accuracy: 0.872111, val accuracy: 0.759000\n",
      "Loss: 0.982729, Train accuracy: 0.887556, val accuracy: 0.764000\n",
      "Loss: 0.964312, Train accuracy: 0.877333, val accuracy: 0.758000\n",
      "Loss: 0.946359, Train accuracy: 0.884444, val accuracy: 0.762000\n",
      "Loss: 0.935673, Train accuracy: 0.887667, val accuracy: 0.766000\n",
      "Loss: 0.927954, Train accuracy: 0.903778, val accuracy: 0.779000\n",
      "Loss: 0.903126, Train accuracy: 0.890222, val accuracy: 0.772000\n",
      "Loss: 0.897021, Train accuracy: 0.885333, val accuracy: 0.770000\n",
      "Loss: 0.894596, Train accuracy: 0.890778, val accuracy: 0.767000\n",
      "Loss: 0.890586, Train accuracy: 0.899556, val accuracy: 0.776000\n",
      "Loss: 0.888751, Train accuracy: 0.885778, val accuracy: 0.764000\n",
      "Loss: 0.868964, Train accuracy: 0.889889, val accuracy: 0.775000\n",
      "learning_rate: 0.01, reg_strength: 0.001, \n",
      "                    hidden_layer_size: 100, num_epoch:75\n",
      "Loss: 5.138870, Train accuracy: 0.350333, val accuracy: 0.343000\n",
      "Loss: 4.502797, Train accuracy: 0.523667, val accuracy: 0.517000\n",
      "Loss: 4.029642, Train accuracy: 0.614333, val accuracy: 0.590000\n",
      "Loss: 3.697367, Train accuracy: 0.663444, val accuracy: 0.622000\n",
      "Loss: 3.427090, Train accuracy: 0.679889, val accuracy: 0.658000\n",
      "Loss: 3.206153, Train accuracy: 0.717667, val accuracy: 0.672000\n",
      "Loss: 3.015106, Train accuracy: 0.737333, val accuracy: 0.683000\n",
      "Loss: 2.840965, Train accuracy: 0.752778, val accuracy: 0.705000\n",
      "Loss: 2.696398, Train accuracy: 0.756889, val accuracy: 0.717000\n",
      "Loss: 2.548612, Train accuracy: 0.760111, val accuracy: 0.700000\n",
      "Loss: 2.415696, Train accuracy: 0.774111, val accuracy: 0.722000\n",
      "Loss: 2.295431, Train accuracy: 0.774444, val accuracy: 0.722000\n",
      "Loss: 2.195227, Train accuracy: 0.796778, val accuracy: 0.727000\n",
      "Loss: 2.098738, Train accuracy: 0.795444, val accuracy: 0.716000\n",
      "Loss: 2.012460, Train accuracy: 0.794111, val accuracy: 0.719000\n",
      "Loss: 1.914632, Train accuracy: 0.813556, val accuracy: 0.734000\n",
      "Loss: 1.825346, Train accuracy: 0.818556, val accuracy: 0.746000\n",
      "Loss: 1.746905, Train accuracy: 0.805000, val accuracy: 0.735000\n",
      "Loss: 1.684099, Train accuracy: 0.835444, val accuracy: 0.752000\n",
      "Loss: 1.617420, Train accuracy: 0.825889, val accuracy: 0.731000\n",
      "Loss: 1.559240, Train accuracy: 0.834667, val accuracy: 0.753000\n",
      "Loss: 1.506101, Train accuracy: 0.834222, val accuracy: 0.746000\n",
      "Loss: 1.455637, Train accuracy: 0.824333, val accuracy: 0.752000\n",
      "Loss: 1.421653, Train accuracy: 0.847889, val accuracy: 0.747000\n",
      "Loss: 1.368668, Train accuracy: 0.856000, val accuracy: 0.748000\n",
      "Loss: 1.316186, Train accuracy: 0.832556, val accuracy: 0.751000\n",
      "Loss: 1.283814, Train accuracy: 0.859222, val accuracy: 0.750000\n",
      "Loss: 1.248146, Train accuracy: 0.845667, val accuracy: 0.747000\n",
      "Loss: 1.208349, Train accuracy: 0.859333, val accuracy: 0.755000\n",
      "Loss: 1.181422, Train accuracy: 0.867000, val accuracy: 0.767000\n",
      "Loss: 1.157614, Train accuracy: 0.850667, val accuracy: 0.760000\n",
      "Loss: 1.129046, Train accuracy: 0.859556, val accuracy: 0.752000\n",
      "Loss: 1.101327, Train accuracy: 0.878444, val accuracy: 0.755000\n",
      "Loss: 1.088822, Train accuracy: 0.856889, val accuracy: 0.755000\n",
      "Loss: 1.059917, Train accuracy: 0.871333, val accuracy: 0.769000\n",
      "Loss: 1.041813, Train accuracy: 0.883667, val accuracy: 0.763000\n",
      "Loss: 1.025138, Train accuracy: 0.883333, val accuracy: 0.754000\n",
      "Loss: 1.000285, Train accuracy: 0.885889, val accuracy: 0.757000\n",
      "Loss: 0.970551, Train accuracy: 0.891667, val accuracy: 0.765000\n",
      "Loss: 0.962881, Train accuracy: 0.880556, val accuracy: 0.779000\n",
      "Loss: 0.942758, Train accuracy: 0.883222, val accuracy: 0.762000\n",
      "Loss: 0.938470, Train accuracy: 0.864222, val accuracy: 0.753000\n",
      "Loss: 0.922701, Train accuracy: 0.899778, val accuracy: 0.772000\n",
      "Loss: 0.908197, Train accuracy: 0.873778, val accuracy: 0.748000\n",
      "Loss: 0.895604, Train accuracy: 0.900000, val accuracy: 0.764000\n",
      "Loss: 0.886780, Train accuracy: 0.898333, val accuracy: 0.769000\n",
      "Loss: 0.880088, Train accuracy: 0.894556, val accuracy: 0.772000\n",
      "Loss: 0.878471, Train accuracy: 0.899778, val accuracy: 0.764000\n",
      "Loss: 0.867599, Train accuracy: 0.894222, val accuracy: 0.771000\n",
      "Loss: 0.851795, Train accuracy: 0.901111, val accuracy: 0.773000\n",
      "Loss: 0.849589, Train accuracy: 0.912333, val accuracy: 0.774000\n",
      "Loss: 0.846357, Train accuracy: 0.901889, val accuracy: 0.773000\n",
      "Loss: 0.820577, Train accuracy: 0.913111, val accuracy: 0.779000\n",
      "Loss: 0.809335, Train accuracy: 0.903444, val accuracy: 0.765000\n",
      "Loss: 0.806894, Train accuracy: 0.913222, val accuracy: 0.770000\n",
      "Loss: 0.795169, Train accuracy: 0.905778, val accuracy: 0.783000\n",
      "Loss: 0.788453, Train accuracy: 0.893556, val accuracy: 0.759000\n",
      "Loss: 0.778000, Train accuracy: 0.909556, val accuracy: 0.775000\n",
      "Loss: 0.777309, Train accuracy: 0.912667, val accuracy: 0.779000\n",
      "Loss: 0.775197, Train accuracy: 0.914778, val accuracy: 0.777000\n",
      "learning_rate: 0.01, reg_strength: 0.001, \n",
      "                    hidden_layer_size: 150, num_epoch:50\n",
      "Loss: 6.602542, Train accuracy: 0.423111, val accuracy: 0.396000\n",
      "Loss: 5.813014, Train accuracy: 0.549556, val accuracy: 0.541000\n",
      "Loss: 5.252756, Train accuracy: 0.641889, val accuracy: 0.603000\n",
      "Loss: 4.839152, Train accuracy: 0.684667, val accuracy: 0.640000\n",
      "Loss: 4.497641, Train accuracy: 0.703111, val accuracy: 0.658000\n",
      "Loss: 4.212140, Train accuracy: 0.725667, val accuracy: 0.680000\n",
      "Loss: 3.941365, Train accuracy: 0.738222, val accuracy: 0.691000\n",
      "Loss: 3.704821, Train accuracy: 0.744778, val accuracy: 0.697000\n",
      "Loss: 3.495094, Train accuracy: 0.754444, val accuracy: 0.708000\n",
      "Loss: 3.297303, Train accuracy: 0.777222, val accuracy: 0.718000\n",
      "Loss: 3.112230, Train accuracy: 0.788667, val accuracy: 0.718000\n",
      "Loss: 2.949585, Train accuracy: 0.789778, val accuracy: 0.739000\n"
     ]
    },
    {
     "name": "stdout",
     "output_type": "stream",
     "text": [
      "Loss: 2.786356, Train accuracy: 0.792444, val accuracy: 0.708000\n",
      "Loss: 2.643779, Train accuracy: 0.816889, val accuracy: 0.732000\n",
      "Loss: 2.515561, Train accuracy: 0.800000, val accuracy: 0.716000\n",
      "Loss: 2.388344, Train accuracy: 0.832444, val accuracy: 0.742000\n",
      "Loss: 2.272860, Train accuracy: 0.795778, val accuracy: 0.703000\n",
      "Loss: 2.171464, Train accuracy: 0.831444, val accuracy: 0.747000\n",
      "Loss: 2.064413, Train accuracy: 0.842667, val accuracy: 0.732000\n",
      "Loss: 1.972110, Train accuracy: 0.838556, val accuracy: 0.750000\n",
      "Loss: 1.892233, Train accuracy: 0.842333, val accuracy: 0.753000\n",
      "Loss: 1.810522, Train accuracy: 0.841667, val accuracy: 0.739000\n",
      "Loss: 1.745602, Train accuracy: 0.856667, val accuracy: 0.767000\n",
      "Loss: 1.668920, Train accuracy: 0.849222, val accuracy: 0.737000\n",
      "Loss: 1.608092, Train accuracy: 0.867111, val accuracy: 0.748000\n",
      "Loss: 1.551749, Train accuracy: 0.870222, val accuracy: 0.753000\n",
      "Loss: 1.491111, Train accuracy: 0.852667, val accuracy: 0.741000\n",
      "Loss: 1.450624, Train accuracy: 0.878111, val accuracy: 0.751000\n",
      "Loss: 1.391868, Train accuracy: 0.885000, val accuracy: 0.760000\n",
      "Loss: 1.352393, Train accuracy: 0.887556, val accuracy: 0.756000\n",
      "Loss: 1.314155, Train accuracy: 0.881000, val accuracy: 0.756000\n",
      "Loss: 1.274121, Train accuracy: 0.891889, val accuracy: 0.760000\n",
      "Loss: 1.235563, Train accuracy: 0.855333, val accuracy: 0.750000\n",
      "Loss: 1.194541, Train accuracy: 0.854333, val accuracy: 0.728000\n",
      "Loss: 1.183294, Train accuracy: 0.891111, val accuracy: 0.759000\n",
      "Loss: 1.136537, Train accuracy: 0.888000, val accuracy: 0.760000\n",
      "Loss: 1.110455, Train accuracy: 0.890667, val accuracy: 0.761000\n",
      "Loss: 1.091827, Train accuracy: 0.895444, val accuracy: 0.760000\n",
      "Loss: 1.076702, Train accuracy: 0.887889, val accuracy: 0.756000\n",
      "Loss: 1.036632, Train accuracy: 0.901333, val accuracy: 0.762000\n",
      "Loss: 1.010641, Train accuracy: 0.881778, val accuracy: 0.747000\n",
      "Loss: 1.004684, Train accuracy: 0.893111, val accuracy: 0.756000\n",
      "Loss: 0.973627, Train accuracy: 0.915444, val accuracy: 0.772000\n",
      "Loss: 0.953827, Train accuracy: 0.905111, val accuracy: 0.769000\n",
      "Loss: 0.949435, Train accuracy: 0.908889, val accuracy: 0.771000\n",
      "Loss: 0.928025, Train accuracy: 0.914778, val accuracy: 0.763000\n",
      "Loss: 0.918417, Train accuracy: 0.909556, val accuracy: 0.770000\n",
      "Loss: 0.911544, Train accuracy: 0.914556, val accuracy: 0.763000\n",
      "learning_rate: 0.01, reg_strength: 0.001, \n",
      "                    hidden_layer_size: 150, num_epoch:75\n",
      "Loss: 6.613634, Train accuracy: 0.407444, val accuracy: 0.390000\n",
      "Loss: 5.838695, Train accuracy: 0.557556, val accuracy: 0.535000\n",
      "Loss: 5.271967, Train accuracy: 0.605333, val accuracy: 0.587000\n",
      "Loss: 4.859160, Train accuracy: 0.671333, val accuracy: 0.648000\n",
      "Loss: 4.526319, Train accuracy: 0.696333, val accuracy: 0.662000\n",
      "Loss: 4.218701, Train accuracy: 0.720778, val accuracy: 0.679000\n",
      "Loss: 3.957862, Train accuracy: 0.742556, val accuracy: 0.692000\n",
      "Loss: 3.713252, Train accuracy: 0.753444, val accuracy: 0.716000\n",
      "Loss: 3.494656, Train accuracy: 0.766444, val accuracy: 0.718000\n",
      "Loss: 3.295944, Train accuracy: 0.774889, val accuracy: 0.706000\n",
      "Loss: 3.122304, Train accuracy: 0.783111, val accuracy: 0.728000\n",
      "Loss: 2.940464, Train accuracy: 0.801889, val accuracy: 0.722000\n",
      "Loss: 2.785804, Train accuracy: 0.806222, val accuracy: 0.748000\n",
      "Loss: 2.638793, Train accuracy: 0.818111, val accuracy: 0.731000\n",
      "Loss: 2.509654, Train accuracy: 0.824444, val accuracy: 0.738000\n",
      "Loss: 2.397958, Train accuracy: 0.818556, val accuracy: 0.728000\n",
      "Loss: 2.276638, Train accuracy: 0.820444, val accuracy: 0.731000\n",
      "Loss: 2.159709, Train accuracy: 0.839889, val accuracy: 0.732000\n",
      "Loss: 2.068778, Train accuracy: 0.827222, val accuracy: 0.730000\n",
      "Loss: 1.976732, Train accuracy: 0.845333, val accuracy: 0.739000\n",
      "Loss: 1.892283, Train accuracy: 0.843889, val accuracy: 0.737000\n",
      "Loss: 1.815681, Train accuracy: 0.863000, val accuracy: 0.741000\n",
      "Loss: 1.746167, Train accuracy: 0.870333, val accuracy: 0.745000\n",
      "Loss: 1.671266, Train accuracy: 0.853889, val accuracy: 0.762000\n",
      "Loss: 1.599371, Train accuracy: 0.877778, val accuracy: 0.757000\n",
      "Loss: 1.546623, Train accuracy: 0.861111, val accuracy: 0.733000\n",
      "Loss: 1.488052, Train accuracy: 0.876222, val accuracy: 0.756000\n",
      "Loss: 1.431969, Train accuracy: 0.877333, val accuracy: 0.752000\n",
      "Loss: 1.406759, Train accuracy: 0.879667, val accuracy: 0.760000\n",
      "Loss: 1.343024, Train accuracy: 0.861000, val accuracy: 0.753000\n",
      "Loss: 1.305657, Train accuracy: 0.884333, val accuracy: 0.753000\n",
      "Loss: 1.269985, Train accuracy: 0.870444, val accuracy: 0.747000\n",
      "Loss: 1.231023, Train accuracy: 0.881444, val accuracy: 0.757000\n",
      "Loss: 1.200226, Train accuracy: 0.896111, val accuracy: 0.770000\n",
      "Loss: 1.165993, Train accuracy: 0.896556, val accuracy: 0.766000\n",
      "Loss: 1.142046, Train accuracy: 0.878222, val accuracy: 0.754000\n",
      "Loss: 1.112030, Train accuracy: 0.884444, val accuracy: 0.768000\n",
      "Loss: 1.100307, Train accuracy: 0.897444, val accuracy: 0.757000\n",
      "Loss: 1.060559, Train accuracy: 0.892222, val accuracy: 0.767000\n",
      "Loss: 1.054079, Train accuracy: 0.879000, val accuracy: 0.755000\n",
      "Loss: 1.019736, Train accuracy: 0.903889, val accuracy: 0.763000\n",
      "Loss: 1.015682, Train accuracy: 0.904667, val accuracy: 0.776000\n",
      "Loss: 0.992476, Train accuracy: 0.905778, val accuracy: 0.772000\n",
      "Loss: 0.976015, Train accuracy: 0.898333, val accuracy: 0.758000\n",
      "Loss: 0.950122, Train accuracy: 0.904778, val accuracy: 0.752000\n",
      "Loss: 0.941287, Train accuracy: 0.888778, val accuracy: 0.751000\n",
      "Loss: 0.940147, Train accuracy: 0.904333, val accuracy: 0.777000\n",
      "Loss: 0.914666, Train accuracy: 0.902778, val accuracy: 0.771000\n",
      "Loss: 0.901339, Train accuracy: 0.909222, val accuracy: 0.768000\n",
      "Loss: 0.883023, Train accuracy: 0.908000, val accuracy: 0.763000\n",
      "Loss: 0.875822, Train accuracy: 0.915333, val accuracy: 0.772000\n",
      "Loss: 0.871042, Train accuracy: 0.911333, val accuracy: 0.757000\n",
      "Loss: 0.864887, Train accuracy: 0.897444, val accuracy: 0.765000\n",
      "Loss: 0.851800, Train accuracy: 0.912000, val accuracy: 0.768000\n",
      "Loss: 0.845384, Train accuracy: 0.921667, val accuracy: 0.762000\n",
      "Loss: 0.835135, Train accuracy: 0.916111, val accuracy: 0.767000\n",
      "Loss: 0.826322, Train accuracy: 0.918111, val accuracy: 0.762000\n",
      "Loss: 0.813472, Train accuracy: 0.927778, val accuracy: 0.783000\n",
      "Loss: 0.806489, Train accuracy: 0.929667, val accuracy: 0.767000\n",
      "Loss: 0.802996, Train accuracy: 0.923111, val accuracy: 0.772000\n",
      "Loss: 0.796254, Train accuracy: 0.916556, val accuracy: 0.765000\n",
      "Loss: 0.795742, Train accuracy: 0.919444, val accuracy: 0.774000\n",
      "Loss: 0.789731, Train accuracy: 0.908222, val accuracy: 0.758000\n",
      "Loss: 0.783549, Train accuracy: 0.920111, val accuracy: 0.760000\n",
      "Loss: 0.777232, Train accuracy: 0.933222, val accuracy: 0.780000\n",
      "Loss: 0.766457, Train accuracy: 0.901333, val accuracy: 0.754000\n",
      "Loss: 0.763182, Train accuracy: 0.919333, val accuracy: 0.775000\n",
      "learning_rate: 0.01, reg_strength: 0.001, \n",
      "                    hidden_layer_size: 200, num_epoch:50\n",
      "Loss: 8.079798, Train accuracy: 0.431444, val accuracy: 0.420000\n",
      "Loss: 7.158261, Train accuracy: 0.570667, val accuracy: 0.536000\n",
      "Loss: 6.499160, Train accuracy: 0.647778, val accuracy: 0.613000\n",
      "Loss: 5.998894, Train accuracy: 0.702778, val accuracy: 0.661000\n",
      "Loss: 5.577355, Train accuracy: 0.718000, val accuracy: 0.661000\n",
      "Loss: 5.208804, Train accuracy: 0.735111, val accuracy: 0.696000\n",
      "Loss: 4.876271, Train accuracy: 0.760667, val accuracy: 0.715000\n",
      "Loss: 4.571775, Train accuracy: 0.768667, val accuracy: 0.703000\n",
      "Loss: 4.297273, Train accuracy: 0.772556, val accuracy: 0.697000\n",
      "Loss: 4.041206, Train accuracy: 0.792333, val accuracy: 0.719000\n",
      "Loss: 3.808469, Train accuracy: 0.800222, val accuracy: 0.718000\n",
      "Loss: 3.592008, Train accuracy: 0.798444, val accuracy: 0.719000\n",
      "Loss: 3.397163, Train accuracy: 0.804000, val accuracy: 0.719000\n",
      "Loss: 3.204039, Train accuracy: 0.823000, val accuracy: 0.747000\n",
      "Loss: 3.035612, Train accuracy: 0.822444, val accuracy: 0.733000\n",
      "Loss: 2.879233, Train accuracy: 0.830667, val accuracy: 0.736000\n",
      "Loss: 2.726028, Train accuracy: 0.837000, val accuracy: 0.731000\n",
      "Loss: 2.578957, Train accuracy: 0.827333, val accuracy: 0.734000\n",
      "Loss: 2.459640, Train accuracy: 0.836667, val accuracy: 0.721000\n",
      "Loss: 2.327643, Train accuracy: 0.859667, val accuracy: 0.752000\n"
     ]
    },
    {
     "name": "stdout",
     "output_type": "stream",
     "text": [
      "Loss: 2.218755, Train accuracy: 0.860889, val accuracy: 0.746000\n",
      "Loss: 2.118893, Train accuracy: 0.862111, val accuracy: 0.749000\n",
      "Loss: 2.024965, Train accuracy: 0.865444, val accuracy: 0.747000\n",
      "Loss: 1.941604, Train accuracy: 0.867556, val accuracy: 0.755000\n",
      "Loss: 1.856789, Train accuracy: 0.870556, val accuracy: 0.757000\n",
      "Loss: 1.773169, Train accuracy: 0.883000, val accuracy: 0.762000\n",
      "Loss: 1.701354, Train accuracy: 0.881333, val accuracy: 0.759000\n",
      "Loss: 1.639217, Train accuracy: 0.885444, val accuracy: 0.770000\n",
      "Loss: 1.577721, Train accuracy: 0.884000, val accuracy: 0.773000\n",
      "Loss: 1.521896, Train accuracy: 0.893444, val accuracy: 0.773000\n",
      "Loss: 1.470204, Train accuracy: 0.890333, val accuracy: 0.768000\n",
      "Loss: 1.414033, Train accuracy: 0.896444, val accuracy: 0.766000\n",
      "Loss: 1.371054, Train accuracy: 0.894000, val accuracy: 0.763000\n",
      "Loss: 1.329232, Train accuracy: 0.904333, val accuracy: 0.766000\n",
      "Loss: 1.284585, Train accuracy: 0.895333, val accuracy: 0.765000\n",
      "Loss: 1.269962, Train accuracy: 0.879556, val accuracy: 0.739000\n",
      "Loss: 1.230479, Train accuracy: 0.901556, val accuracy: 0.769000\n",
      "Loss: 1.184664, Train accuracy: 0.896778, val accuracy: 0.757000\n",
      "Loss: 1.153608, Train accuracy: 0.898889, val accuracy: 0.776000\n",
      "Loss: 1.127199, Train accuracy: 0.895333, val accuracy: 0.773000\n",
      "Loss: 1.106929, Train accuracy: 0.907556, val accuracy: 0.780000\n",
      "Loss: 1.070474, Train accuracy: 0.916000, val accuracy: 0.790000\n",
      "Loss: 1.052320, Train accuracy: 0.914444, val accuracy: 0.767000\n",
      "Loss: 1.025007, Train accuracy: 0.892000, val accuracy: 0.746000\n",
      "Loss: 1.023909, Train accuracy: 0.846667, val accuracy: 0.736000\n",
      "Loss: 1.001023, Train accuracy: 0.903667, val accuracy: 0.757000\n",
      "Loss: 0.977563, Train accuracy: 0.921778, val accuracy: 0.766000\n",
      "Loss: 0.955959, Train accuracy: 0.915333, val accuracy: 0.778000\n",
      "Loss: 0.943468, Train accuracy: 0.910556, val accuracy: 0.771000\n",
      "Loss: 0.938719, Train accuracy: 0.919778, val accuracy: 0.760000\n",
      "learning_rate: 0.01, reg_strength: 0.001, \n",
      "                    hidden_layer_size: 200, num_epoch:75\n",
      "Loss: 8.065109, Train accuracy: 0.416889, val accuracy: 0.380000\n",
      "Loss: 7.153910, Train accuracy: 0.588000, val accuracy: 0.548000\n",
      "Loss: 6.502624, Train accuracy: 0.647667, val accuracy: 0.594000\n",
      "Loss: 6.003071, Train accuracy: 0.684556, val accuracy: 0.625000\n",
      "Loss: 5.575648, Train accuracy: 0.709333, val accuracy: 0.657000\n",
      "Loss: 5.199416, Train accuracy: 0.734111, val accuracy: 0.672000\n",
      "Loss: 4.866528, Train accuracy: 0.760667, val accuracy: 0.684000\n",
      "Loss: 4.558607, Train accuracy: 0.779778, val accuracy: 0.708000\n",
      "Loss: 4.284045, Train accuracy: 0.774889, val accuracy: 0.701000\n",
      "Loss: 4.029926, Train accuracy: 0.797667, val accuracy: 0.711000\n",
      "Loss: 3.797305, Train accuracy: 0.801889, val accuracy: 0.698000\n",
      "Loss: 3.570600, Train accuracy: 0.809222, val accuracy: 0.716000\n",
      "Loss: 3.386564, Train accuracy: 0.814333, val accuracy: 0.718000\n",
      "Loss: 3.188316, Train accuracy: 0.836889, val accuracy: 0.750000\n",
      "Loss: 3.019498, Train accuracy: 0.834333, val accuracy: 0.734000\n",
      "Loss: 2.855522, Train accuracy: 0.826667, val accuracy: 0.724000\n",
      "Loss: 2.706546, Train accuracy: 0.840889, val accuracy: 0.741000\n",
      "Loss: 2.562171, Train accuracy: 0.853222, val accuracy: 0.762000\n",
      "Loss: 2.441174, Train accuracy: 0.859333, val accuracy: 0.753000\n",
      "Loss: 2.316624, Train accuracy: 0.862333, val accuracy: 0.753000\n",
      "Loss: 2.214208, Train accuracy: 0.861889, val accuracy: 0.753000\n",
      "Loss: 2.104989, Train accuracy: 0.869111, val accuracy: 0.757000\n",
      "Loss: 2.016727, Train accuracy: 0.872333, val accuracy: 0.754000\n",
      "Loss: 1.935683, Train accuracy: 0.881667, val accuracy: 0.771000\n",
      "Loss: 1.842586, Train accuracy: 0.872444, val accuracy: 0.766000\n",
      "Loss: 1.775810, Train accuracy: 0.887111, val accuracy: 0.760000\n",
      "Loss: 1.686541, Train accuracy: 0.864778, val accuracy: 0.745000\n",
      "Loss: 1.634464, Train accuracy: 0.889000, val accuracy: 0.763000\n",
      "Loss: 1.567161, Train accuracy: 0.869667, val accuracy: 0.739000\n",
      "Loss: 1.536629, Train accuracy: 0.886667, val accuracy: 0.758000\n",
      "Loss: 1.464643, Train accuracy: 0.904111, val accuracy: 0.766000\n",
      "Loss: 1.404510, Train accuracy: 0.895444, val accuracy: 0.764000\n",
      "Loss: 1.367803, Train accuracy: 0.865444, val accuracy: 0.726000\n",
      "Loss: 1.325199, Train accuracy: 0.891444, val accuracy: 0.767000\n",
      "Loss: 1.277931, Train accuracy: 0.903667, val accuracy: 0.772000\n",
      "Loss: 1.249704, Train accuracy: 0.906000, val accuracy: 0.761000\n",
      "Loss: 1.208334, Train accuracy: 0.910000, val accuracy: 0.772000\n",
      "Loss: 1.176491, Train accuracy: 0.909111, val accuracy: 0.765000\n",
      "Loss: 1.145484, Train accuracy: 0.908889, val accuracy: 0.775000\n",
      "Loss: 1.115626, Train accuracy: 0.915333, val accuracy: 0.785000\n",
      "Loss: 1.088333, Train accuracy: 0.908222, val accuracy: 0.773000\n",
      "Loss: 1.080246, Train accuracy: 0.910778, val accuracy: 0.765000\n",
      "Loss: 1.038752, Train accuracy: 0.916000, val accuracy: 0.767000\n",
      "Loss: 1.028574, Train accuracy: 0.914222, val accuracy: 0.767000\n",
      "Loss: 1.004100, Train accuracy: 0.897444, val accuracy: 0.759000\n",
      "Loss: 0.989283, Train accuracy: 0.906222, val accuracy: 0.762000\n",
      "Loss: 0.967514, Train accuracy: 0.918667, val accuracy: 0.775000\n",
      "Loss: 0.951462, Train accuracy: 0.909222, val accuracy: 0.768000\n",
      "Loss: 0.934477, Train accuracy: 0.906333, val accuracy: 0.764000\n",
      "Loss: 0.920926, Train accuracy: 0.906000, val accuracy: 0.776000\n",
      "Loss: 0.897266, Train accuracy: 0.912111, val accuracy: 0.769000\n",
      "Loss: 0.890842, Train accuracy: 0.919222, val accuracy: 0.765000\n",
      "Loss: 0.877074, Train accuracy: 0.917444, val accuracy: 0.780000\n",
      "Loss: 0.866000, Train accuracy: 0.929111, val accuracy: 0.778000\n",
      "Loss: 0.860146, Train accuracy: 0.918444, val accuracy: 0.772000\n",
      "Loss: 0.854350, Train accuracy: 0.929889, val accuracy: 0.771000\n",
      "Loss: 0.843174, Train accuracy: 0.927111, val accuracy: 0.775000\n",
      "Loss: 0.829509, Train accuracy: 0.928889, val accuracy: 0.777000\n",
      "Loss: 0.827293, Train accuracy: 0.931444, val accuracy: 0.778000\n",
      "Loss: 0.814447, Train accuracy: 0.925889, val accuracy: 0.770000\n",
      "Loss: 0.802122, Train accuracy: 0.927333, val accuracy: 0.769000\n",
      "Loss: 0.788381, Train accuracy: 0.930000, val accuracy: 0.778000\n",
      "Loss: 0.782128, Train accuracy: 0.934667, val accuracy: 0.789000\n",
      "Loss: 0.778743, Train accuracy: 0.934000, val accuracy: 0.777000\n",
      "Loss: 0.773471, Train accuracy: 0.913333, val accuracy: 0.760000\n",
      "Loss: 0.761719, Train accuracy: 0.921111, val accuracy: 0.762000\n",
      "Loss: 0.759371, Train accuracy: 0.936444, val accuracy: 0.772000\n",
      "best validation accuracy achieved: 0.772000\n"
     ]
    }
   ],
   "source": [
    "# Let's train the best one-hidden-layer network we can\n",
    "\n",
    "# learning_rates = 1e-4\n",
    "# reg_strength = 1e-3\n",
    "# learning_rate_decay = 0.999\n",
    "# hidden_layer_size = 128\n",
    "# num_epochs = 200\n",
    "# batch_size = 64\n",
    "\n",
    "learning_rates = [1e-2]\n",
    "reg_strengths = [1e-3]\n",
    "hidden_layer_sizes = [100, 150, 200]\n",
    "num_epoches = [50,75]\n",
    "\n",
    "\n",
    "best_classifier = None\n",
    "best_val_accuracy = None\n",
    "\n",
    "best_loss_history = []\n",
    "best_train_history = []\n",
    "best_val_history = []\n",
    "\n",
    "# TODO find the best hyperparameters to train the network\n",
    "# Don't hesitate to add new values to the arrays above, perform experiments, use any tricks you want\n",
    "# You should expect to get to at least 40% of valudation accuracy\n",
    "# Save loss/train/history of the best classifier to the variables above\n",
    "\n",
    "loss = 1e+10\n",
    "\n",
    "for learning_rate in learning_rates:\n",
    "    for reg_strength in reg_strengths:\n",
    "        for hidden_layer_size in hidden_layer_sizes:\n",
    "            for num_epoch in num_epoches:\n",
    "                print(f'''learning_rate: {learning_rate}, reg_strength: {reg_strength}, \n",
    "                    hidden_layer_size: {hidden_layer_size}, num_epoch:{num_epoch}''')\n",
    "                model = TwoLayerNet(train_X.shape[1], 10, hidden_layer_size, reg_strength)\n",
    "                dataset = Dataset(train_X, train_y, val_X, val_y)\n",
    "                trainer = Trainer(model, dataset, MomentumSGD(), num_epoch, 50, learning_rate)\n",
    "                loss_history, train_history, val_history = trainer.fit()\n",
    "\n",
    "                if loss > loss_history[-1]:\n",
    "                    best_classifier = model\n",
    "                    best_loss_history, best_train_history, best_val_history = loss_history, train_history, val_history  \n",
    "                    loss = loss_history[-1]\n",
    "                        \n",
    "                    \n",
    "                    \n",
    "                    \n",
    "\n",
    "\n",
    "print('best validation accuracy achieved: %f' % best_val_history[-1])"
   ]
  },
  {
   "cell_type": "code",
   "execution_count": 266,
   "metadata": {},
   "outputs": [
    {
     "data": {
      "text/plain": [
       "[<matplotlib.lines.Line2D at 0x7f844aa50e20>]"
      ]
     },
     "execution_count": 266,
     "metadata": {},
     "output_type": "execute_result"
    },
    {
     "data": {
      "image/png": "[encoded data removed]",
      "text/plain": [
       "<Figure size 1080x504 with 2 Axes>"
      ]
     },
     "metadata": {
      "needs_background": "light"
     },
     "output_type": "display_data"
    }
   ],
   "source": [
    "plt.figure(figsize=(15, 7))\n",
    "plt.subplot(211)\n",
    "plt.title(\"Loss\")\n",
    "plt.plot(loss_history)\n",
    "plt.subplot(212)\n",
    "plt.title(\"Train/validation accuracy\")\n",
    "plt.plot(train_history)\n",
    "plt.plot(val_history)"
   ]
  },
  {
   "cell_type": "code",
   "execution_count": 267,
   "metadata": {},
   "outputs": [],
   "source": [
    "best_classifier = model"
   ]
  },
  {
   "cell_type": "markdown",
   "metadata": {},
   "source": [
    "# Как обычно, посмотрим, как наша лучшая модель работает на тестовых данных"
   ]
  },
  {
   "cell_type": "code",
   "execution_count": 268,
   "metadata": {},
   "outputs": [
    {
     "name": "stdout",
     "output_type": "stream",
     "text": [
      "Neural net test set accuracy: 0.758000\n"
     ]
    }
   ],
   "source": [
    "test_pred = best_classifier.predict(test_X)\n",
    "test_accuracy = multiclass_accuracy(test_pred, test_y)\n",
    "print('Neural net test set accuracy: %f' % (test_accuracy, ))"
   ]
  }
 ],
 "metadata": {
  "kernelspec": {
   "display_name": "Python 3 (ipykernel)",
   "language": "python",
   "name": "python3"
  },
  "language_info": {
   "codemirror_mode": {
    "name": "ipython",
    "version": 3
   },
   "file_extension": ".py",
   "mimetype": "text/x-python",
   "name": "python",
   "nbconvert_exporter": "python",
   "pygments_lexer": "ipython3",
   "version": "3.9.7"
  }
 },
 "nbformat": 4,
 "nbformat_minor": 2
}
